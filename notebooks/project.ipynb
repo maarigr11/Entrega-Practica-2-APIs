{
 "cells": [
  {
   "metadata": {},
   "cell_type": "markdown",
   "source": "# Práctica de API request",
   "id": "b0eb257da1b6c6bc"
  },
  {
   "cell_type": "code",
   "id": "initial_id",
   "metadata": {
    "collapsed": true,
    "ExecuteTime": {
     "end_time": "2025-09-07T02:13:41.647871Z",
     "start_time": "2025-09-07T02:13:41.634141Z"
    }
   },
   "source": [
    "import os\n",
    "from dotenv import load_dotenv"
   ],
   "outputs": [],
   "execution_count": 11
  },
  {
   "metadata": {
    "ExecuteTime": {
     "end_time": "2025-09-07T02:13:51.276823Z",
     "start_time": "2025-09-07T02:13:51.267956Z"
    }
   },
   "cell_type": "code",
   "source": [
    "load_dotenv()\n",
    "client_id = os.getenv(\"CLIENT_ID\")\n",
    "client_secret = os.getenv('CLIENT_SECRET')\n",
    "saludo = os.getenv('HOLA')\n",
    "\n",
    "print(saludo)"
   ],
   "id": "9dbdff5e6cd941d1",
   "outputs": [
    {
     "name": "stdout",
     "output_type": "stream",
     "text": [
      "hola\n"
     ]
    }
   ],
   "execution_count": 12
  },
  {
   "metadata": {
    "ExecuteTime": {
     "end_time": "2025-09-07T03:21:04.709379Z",
     "start_time": "2025-09-07T03:21:04.699730Z"
    }
   },
   "cell_type": "code",
   "source": [
    "data = [\n",
    "    (0,'Nos Siguen Pegando Abajo',67,206720),\n",
    "(1,'Demoliendo Hoteles',66,135973),\n",
    "(2,'No Voy en Tren',63,181600),\n",
    "(3,'Promesas Sobre El Bidet',64,164360),\n",
    "(4,'Hablando a Tu Corazón',63,255266),\n",
    "(5,'No Me Dejan Salir',62,263200),\n",
    "(6,'Raros Peinados Nuevos',60,214760),\n",
    "(7,'Tu Amor',60,186466),\n",
    "(8,'Rezo por Vos',59,269053),\n",
    "(9,'Los Dinosaurios',57,208093)\n",
    "]\n",
    "\n",
    "songs = []\n",
    "for song in data:\n",
    "    song_dict = {'canción': song[1], 'popularidad': song[2], 'duración': song[3]}\n",
    "    songs.append(song_dict)\n",
    "\n",
    "songs"
   ],
   "id": "ef587075f068df4e",
   "outputs": [
    {
     "data": {
      "text/plain": [
       "[{'canción': 'Nos Siguen Pegando Abajo',\n",
       "  'popularidad': 67,\n",
       "  'duración': 206720},\n",
       " {'canción': 'Demoliendo Hoteles', 'popularidad': 66, 'duración': 135973},\n",
       " {'canción': 'No Voy en Tren', 'popularidad': 63, 'duración': 181600},\n",
       " {'canción': 'Promesas Sobre El Bidet', 'popularidad': 64, 'duración': 164360},\n",
       " {'canción': 'Hablando a Tu Corazón', 'popularidad': 63, 'duración': 255266},\n",
       " {'canción': 'No Me Dejan Salir', 'popularidad': 62, 'duración': 263200},\n",
       " {'canción': 'Raros Peinados Nuevos', 'popularidad': 60, 'duración': 214760},\n",
       " {'canción': 'Tu Amor', 'popularidad': 60, 'duración': 186466},\n",
       " {'canción': 'Rezo por Vos', 'popularidad': 59, 'duración': 269053},\n",
       " {'canción': 'Los Dinosaurios', 'popularidad': 57, 'duración': 208093}]"
      ]
     },
     "execution_count": 13,
     "metadata": {},
     "output_type": "execute_result"
    }
   ],
   "execution_count": 13
  }
 ],
 "metadata": {
  "kernelspec": {
   "display_name": "Python 3",
   "language": "python",
   "name": "python3"
  },
  "language_info": {
   "codemirror_mode": {
    "name": "ipython",
    "version": 2
   },
   "file_extension": ".py",
   "mimetype": "text/x-python",
   "name": "python",
   "nbconvert_exporter": "python",
   "pygments_lexer": "ipython2",
   "version": "2.7.6"
  }
 },
 "nbformat": 4,
 "nbformat_minor": 5
}
